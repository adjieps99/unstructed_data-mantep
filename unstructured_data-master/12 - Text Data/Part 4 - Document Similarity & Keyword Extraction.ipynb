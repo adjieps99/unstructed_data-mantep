{
 "cells": [
  {
   "cell_type": "code",
   "execution_count": 28,
   "id": "1ff79657",
   "metadata": {
    "scrolled": false
   },
   "outputs": [],
   "source": [
    "import pandas as pd\n",
    "import numpy as np\n",
    "from nltk.tokenize import word_tokenize\n",
    "from nltk.corpus import stopwords\n",
    "from string import punctuation\n",
    "\n",
    "sw_indo = stopwords.words(\"indonesian\") + list(punctuation)"
   ]
  },
  {
   "cell_type": "markdown",
   "id": "669f44f7",
   "metadata": {},
   "source": [
    "# Import Data"
   ]
  },
  {
   "cell_type": "code",
   "execution_count": 29,
   "id": "d1228b89",
   "metadata": {},
   "outputs": [
    {
     "data": {
      "text/html": [
       "<div>\n",
       "<style scoped>\n",
       "    .dataframe tbody tr th:only-of-type {\n",
       "        vertical-align: middle;\n",
       "    }\n",
       "\n",
       "    .dataframe tbody tr th {\n",
       "        vertical-align: top;\n",
       "    }\n",
       "\n",
       "    .dataframe thead th {\n",
       "        text-align: right;\n",
       "    }\n",
       "</style>\n",
       "<table border=\"1\" class=\"dataframe\">\n",
       "  <thead>\n",
       "    <tr style=\"text-align: right;\">\n",
       "      <th></th>\n",
       "      <th>teks</th>\n",
       "    </tr>\n",
       "  </thead>\n",
       "  <tbody>\n",
       "    <tr>\n",
       "      <th>0</th>\n",
       "      <td>Ginandjar Tetap Ditahan. Jaksa Agung Dilaporka...</td>\n",
       "    </tr>\n",
       "    <tr>\n",
       "      <th>1</th>\n",
       "      <td>Jakarta Dikangkangi Para Preman\\nKALAU tak pun...</td>\n",
       "    </tr>\n",
       "    <tr>\n",
       "      <th>2</th>\n",
       "      <td>Penyimpangan di Setpres Seolah Terjadi Sekaran...</td>\n",
       "    </tr>\n",
       "    <tr>\n",
       "      <th>3</th>\n",
       "      <td>Dibayarkan, Rapel Kenaikan Gaji Pegawai Pos\\nK...</td>\n",
       "    </tr>\n",
       "    <tr>\n",
       "      <th>4</th>\n",
       "      <td>Stop Kekerasan, Elite agar Duduk Bersama\\nSeju...</td>\n",
       "    </tr>\n",
       "  </tbody>\n",
       "</table>\n",
       "</div>"
      ],
      "text/plain": [
       "                                                teks\n",
       "0  Ginandjar Tetap Ditahan. Jaksa Agung Dilaporka...\n",
       "1  Jakarta Dikangkangi Para Preman\\nKALAU tak pun...\n",
       "2  Penyimpangan di Setpres Seolah Terjadi Sekaran...\n",
       "3  Dibayarkan, Rapel Kenaikan Gaji Pegawai Pos\\nK...\n",
       "4  Stop Kekerasan, Elite agar Duduk Bersama\\nSeju..."
      ]
     },
     "execution_count": 29,
     "metadata": {},
     "output_type": "execute_result"
    }
   ],
   "source": [
    "df = pd.read_csv(\"data/kompas.csv\")\n",
    "df.head()"
   ]
  },
  {
   "cell_type": "markdown",
   "id": "0375e2d3",
   "metadata": {},
   "source": [
    "# Extract TFIDF"
   ]
  },
  {
   "cell_type": "code",
   "execution_count": 30,
   "id": "9192af06",
   "metadata": {},
   "outputs": [],
   "source": [
    "from sklearn.feature_extraction.text import TfidfVectorizer"
   ]
  },
  {
   "cell_type": "code",
   "execution_count": 31,
   "id": "90ae610e",
   "metadata": {},
   "outputs": [
    {
     "name": "stderr",
     "output_type": "stream",
     "text": [
      "C:\\Users\\acer\\miniconda3\\envs\\jcop_ud\\lib\\site-packages\\sklearn\\feature_extraction\\text.py:385: UserWarning: Your stop_words may be inconsistent with your preprocessing. Tokenizing the stop words generated tokens ['``'] not in stop_words.\n",
      "  'stop_words.' % sorted(inconsistent))\n"
     ]
    }
   ],
   "source": [
    "tfidf = TfidfVectorizer(ngram_range=(1,2), tokenizer=word_tokenize, stop_words=sw_indo)\n",
    "tfidf_matrix = tfidf.fit_transform(df.teks)"
   ]
  },
  {
   "cell_type": "markdown",
   "id": "a0a33eba",
   "metadata": {},
   "source": [
    "# TFIDF Similarity -> Document Similarity"
   ]
  },
  {
   "cell_type": "code",
   "execution_count": 32,
   "id": "3f0dff66",
   "metadata": {},
   "outputs": [],
   "source": [
    "from sklearn.metrics.pairwise import cosine_similarity"
   ]
  },
  {
   "cell_type": "code",
   "execution_count": 41,
   "id": "cb78953d",
   "metadata": {
    "scrolled": true
   },
   "outputs": [
    {
     "data": {
      "text/plain": [
       "array([[1.        , 0.00858328, 0.01060043, ..., 0.00856287, 0.00677808,\n",
       "        0.01513341]])"
      ]
     },
     "execution_count": 41,
     "metadata": {},
     "output_type": "execute_result"
    }
   ],
   "source": [
    "similarity = cosine_similarity(tfidf_matrix[0], tfidf_matrix)\n",
    "similarity"
   ]
  },
  {
   "cell_type": "code",
   "execution_count": 42,
   "id": "63e01c44",
   "metadata": {},
   "outputs": [
    {
     "data": {
      "text/plain": [
       "array([[ 932, 1131, 1593, ...,  215,  144,    0]], dtype=int64)"
      ]
     },
     "execution_count": 42,
     "metadata": {},
     "output_type": "execute_result"
    }
   ],
   "source": [
    "similarity.argsort() #dari yang tidak mirip sampai mirip"
   ]
  },
  {
   "cell_type": "markdown",
   "id": "53012e1c",
   "metadata": {},
   "source": [
    "# Paling mirip"
   ]
  },
  {
   "cell_type": "code",
   "execution_count": 43,
   "id": "b6b058d7",
   "metadata": {},
   "outputs": [
    {
     "data": {
      "text/plain": [
       "'Ginandjar Tetap Ditahan. Jaksa Agung Dilaporkan ke Polri\\nKejaksaan Agung memutuskan untuk tetap menahan tersangka kasus korupsi, Ginandjar Kartasasmita, sampai batas waktu yang ditentukan KUHAP. Sedan'"
      ]
     },
     "execution_count": 43,
     "metadata": {},
     "output_type": "execute_result"
    }
   ],
   "source": [
    "df.teks[0][:200] #dokumen ke 0 dengan 200 kata pertama"
   ]
  },
  {
   "cell_type": "code",
   "execution_count": 44,
   "id": "4a0a746e",
   "metadata": {},
   "outputs": [
    {
     "data": {
      "text/plain": [
       "'Kejaksaan Agung Terbitkan Surat Penahanan Baru\\nKejaksaan Agung (Kejagung) akhirnya menerbitkan surat perintah penahanan yang baru terhadap mantan Menteri Pertambangan dan Energi Ginandjar Kartasasmita'"
      ]
     },
     "execution_count": 44,
     "metadata": {},
     "output_type": "execute_result"
    }
   ],
   "source": [
    "df.teks[144][:200] #dokumen ke 0 dengan 200 kata pertama"
   ]
  },
  {
   "cell_type": "markdown",
   "id": "a7ae50b4",
   "metadata": {},
   "source": [
    "# Keyword Extraction\n",
    "\n",
    "Ide:\n",
    "TFIDF telah membobotkan kata2 yang spesifik kuat, sehingga tfidf sudah mengamnbil keywordnya. jadi tinggal sorting tfidf"
   ]
  },
  {
   "cell_type": "code",
   "execution_count": 45,
   "id": "64873b39",
   "metadata": {},
   "outputs": [
    {
     "data": {
      "text/plain": [
       "['zuniga memilih',\n",
       " 'zunnatul',\n",
       " 'zunnatul mafruhah',\n",
       " 'zurich',\n",
       " 'zurich northholt',\n",
       " 'zw',\n",
       " 'zw suparman',\n",
       " 'zw tim',\n",
       " 'zx',\n",
       " 'zx diserbu']"
      ]
     },
     "execution_count": 45,
     "metadata": {},
     "output_type": "execute_result"
    }
   ],
   "source": [
    "vocab = tfidf.get_feature_names()\n",
    "vocab[-10:]"
   ]
  },
  {
   "cell_type": "code",
   "execution_count": 52,
   "id": "6c26cdbf",
   "metadata": {},
   "outputs": [
    {
     "data": {
      "text/plain": [
       "array([[0.02115058, 0.        , 0.        , ..., 0.        , 0.        ,\n",
       "        0.        ]])"
      ]
     },
     "execution_count": 52,
     "metadata": {},
     "output_type": "execute_result"
    }
   ],
   "source": [
    "tfidf_matrix[0].toarray()"
   ]
  },
  {
   "cell_type": "code",
   "execution_count": 53,
   "id": "1a1e5455",
   "metadata": {},
   "outputs": [
    {
     "data": {
      "text/plain": [
       "array([274201, 365453, 365452, ..., 386361, 436633, 169209], dtype=int64)"
      ]
     },
     "execution_count": 53,
     "metadata": {},
     "output_type": "execute_result"
    }
   ],
   "source": [
    "sorted_tfidf = tfidf_matrix[0].toarray()[0].argsort()\n",
    "sorted_tfidf"
   ]
  },
  {
   "cell_type": "code",
   "execution_count": 54,
   "id": "b10c7dc9",
   "metadata": {},
   "outputs": [
    {
     "data": {
      "text/plain": [
       "'ginandjar'"
      ]
     },
     "execution_count": 54,
     "metadata": {},
     "output_type": "execute_result"
    }
   ],
   "source": [
    "vocab[169209]"
   ]
  },
  {
   "cell_type": "code",
   "execution_count": 56,
   "id": "92c85fd6",
   "metadata": {},
   "outputs": [
    {
     "data": {
      "text/plain": [
       "'litbang partai'"
      ]
     },
     "execution_count": 56,
     "metadata": {},
     "output_type": "execute_result"
    }
   ],
   "source": [
    "vocab[274201]"
   ]
  },
  {
   "cell_type": "code",
   "execution_count": 59,
   "id": "970d78f6",
   "metadata": {},
   "outputs": [
    {
     "data": {
      "text/plain": [
       "['ginandjar',\n",
       " 'putusan',\n",
       " 'penahanan',\n",
       " 'hukum ginandjar',\n",
       " 'kuasa hukum',\n",
       " 'rusman',\n",
       " 'kejaksaan',\n",
       " 'hakim rusman',\n",
       " 'kuasa',\n",
       " '9 april']"
      ]
     },
     "execution_count": 59,
     "metadata": {},
     "output_type": "execute_result"
    }
   ],
   "source": [
    "[vocab[idx] for idx in reversed(sorted_tfidf[-10:])]"
   ]
  },
  {
   "cell_type": "code",
   "execution_count": 60,
   "id": "80e1cc0a",
   "metadata": {},
   "outputs": [],
   "source": [
    "def extract_keywords_tfidf(doc, tfidf, topk = 10):\n",
    "    matrix = tfidf.transform([doc])\n",
    "    vocab = tfidf.get_feature_names()\n",
    "    \n",
    "    sorted_tfidf = matrix[0].toarray()[0].argsort()\n",
    "    return [vocab[idx] for idx in reversed(sorted_tfidf[-topk:])]"
   ]
  },
  {
   "cell_type": "code",
   "execution_count": 63,
   "id": "97d1346d",
   "metadata": {},
   "outputs": [],
   "source": [
    "kompas1 = \"\"\"\"Ginandjar Tetap Ditahan. Jaksa Agung Dilaporkan ke Polri\\nKejaksaan Agung memutuskan untuk tetap menahan tersangka kasus korupsi, Ginandjar Kartasasmita, sampai batas waktu yang ditentukan KGinandjar Tetap Ditahan. Jaksa Agung Dilaporkan ke Polri\\nKejaksaan Agung memutuskan untuk tetap menahan tersangka kasus korupsi, Ginandjar Kartasasmita, sampai batas waktu yang ditentukan K\"\"\""
   ]
  },
  {
   "cell_type": "markdown",
   "id": "2f1d3660",
   "metadata": {},
   "source": [
    "# kalo mau masukin text pakai kutip 3 (\"\"\"...\"\"\") agar tidak error ketika ada tanda kutip dalam text. kutip 3 itu ambil semua text walaupun di enter.contoh dibawah"
   ]
  },
  {
   "cell_type": "code",
   "execution_count": 65,
   "id": "76ef65b6",
   "metadata": {},
   "outputs": [
    {
     "ename": "SyntaxError",
     "evalue": "EOL while scanning string literal (<ipython-input-65-e94e6561d5ad>, line 1)",
     "output_type": "error",
     "traceback": [
      "\u001b[1;36m  File \u001b[1;32m\"<ipython-input-65-e94e6561d5ad>\"\u001b[1;36m, line \u001b[1;32m1\u001b[0m\n\u001b[1;33m    \"sdsdsd\u001b[0m\n\u001b[1;37m           ^\u001b[0m\n\u001b[1;31mSyntaxError\u001b[0m\u001b[1;31m:\u001b[0m EOL while scanning string literal\n"
     ]
    }
   ],
   "source": [
    "\"sdsdsd\n",
    "dsdsd\"\n",
    "\n",
    "\"\"dsdsd\n",
    "dssdsd\n",
    "s\"\"\n",
    "\n",
    "\"\"\"dsd\n",
    "ds\n",
    "d\n",
    "sd\n",
    "s\n",
    "d\"\"\""
   ]
  },
  {
   "cell_type": "code",
   "execution_count": 64,
   "id": "a0a87eb9",
   "metadata": {},
   "outputs": [
    {
     "data": {
      "text/plain": [
       "['agung dilaporkan',\n",
       " 'dilaporkan polri',\n",
       " 'kartasasmita batas',\n",
       " 'ginandjar',\n",
       " 'ditahan jaksa',\n",
       " 'agung memutuskan',\n",
       " 'korupsi ginandjar',\n",
       " 'polri kejaksaan',\n",
       " 'batas ditentukan',\n",
       " 'memutuskan menahan']"
      ]
     },
     "execution_count": 64,
     "metadata": {},
     "output_type": "execute_result"
    }
   ],
   "source": [
    "extract_keywords_tfidf(kompas1, tfidf)"
   ]
  },
  {
   "cell_type": "markdown",
   "id": "f8ddb4c5",
   "metadata": {},
   "source": [
    "# kalo mau liat text paling langka, pakai idf"
   ]
  },
  {
   "cell_type": "code",
   "execution_count": 67,
   "id": "fcbd1a48",
   "metadata": {},
   "outputs": [
    {
     "data": {
      "text/plain": [
       "array([ 28062,      0, 200981, ..., 199875, 199906, 548403], dtype=int64)"
      ]
     },
     "execution_count": 67,
     "metadata": {},
     "output_type": "execute_result"
    }
   ],
   "source": [
    "tfidf.idf_.argsort()\n",
    "#yang paling langka yang paling besar jadi yang paling kanan (ke kanan makin besar)"
   ]
  },
  {
   "cell_type": "code",
   "execution_count": 68,
   "id": "c4b07404",
   "metadata": {},
   "outputs": [
    {
     "data": {
      "text/plain": [
       "'zx diserbu'"
      ]
     },
     "execution_count": 68,
     "metadata": {},
     "output_type": "execute_result"
    }
   ],
   "source": [
    "vocab[548403]"
   ]
  },
  {
   "cell_type": "code",
   "execution_count": 69,
   "id": "6d605d04",
   "metadata": {},
   "outputs": [
    {
     "data": {
      "text/plain": [
       "'``'"
      ]
     },
     "execution_count": 69,
     "metadata": {},
     "output_type": "execute_result"
    }
   ],
   "source": [
    "vocab[28062]"
   ]
  }
 ],
 "metadata": {
  "kernelspec": {
   "display_name": "Python [conda env:jcop_ud]",
   "language": "python",
   "name": "conda-env-jcop_ud-py"
  },
  "language_info": {
   "codemirror_mode": {
    "name": "ipython",
    "version": 3
   },
   "file_extension": ".py",
   "mimetype": "text/x-python",
   "name": "python",
   "nbconvert_exporter": "python",
   "pygments_lexer": "ipython3",
   "version": "3.7.6"
  }
 },
 "nbformat": 4,
 "nbformat_minor": 5
}
